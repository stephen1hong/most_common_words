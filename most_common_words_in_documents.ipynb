{
 "cells": [
  {
   "cell_type": "code",
   "execution_count": 1,
   "metadata": {},
   "outputs": [],
   "source": [
    "from collections import Counter\n",
    "import numpy as np"
   ]
  },
  {
   "cell_type": "code",
   "execution_count": 2,
   "metadata": {},
   "outputs": [],
   "source": [
    "def most_common_words(doc_text, k):\n",
    "    word_counts = Counter()\n",
    "    i = 0\n",
    "    for sentence in doc_text:\n",
    "        words = sentence.split(' ')\n",
    "        for word in words:\n",
    "            word_counts[word] +=1\n",
    "        \n",
    "    i +=1\n",
    "    return word_counts.most_common(k)"
   ]
  },
  {
   "cell_type": "code",
   "execution_count": 3,
   "metadata": {},
   "outputs": [],
   "source": [
    "import nltk\n",
    "from nltk.corpus import stopwords\n",
    "import pandas as pd\n",
    "from IPython.core.display import HTML"
   ]
  },
  {
   "cell_type": "code",
   "execution_count": null,
   "metadata": {},
   "outputs": [],
   "source": [
    "with open('doc1.txt', 'r', encoding='utf8') as f1:\n",
    "    text1 = f1.read()\n",
    "with open('doc2.txt', 'r', encoding='utf8') as f2:\n",
    "    text2 = f2.read()\n",
    "with open('doc3.txt', 'r', encoding='utf8') as f3:\n",
    "    text3 = f3.read()\n",
    "with open('doc4.txt', 'r', encoding='utf8') as f4:\n",
    "    text4 = f4.read()\n",
    "with open('doc5.txt', 'r', encoding='utf8') as f5:\n",
    "    text5 = f5.read()\n",
    "with open('doc6.txt', 'r', encoding='utf8') as f6:\n",
    "    text6 = f6.read()"
   ]
  },
  {
   "cell_type": "code",
   "execution_count": null,
   "metadata": {},
   "outputs": [],
   "source": [
    "'''\n",
    "Example-1 for most_common_words_function call\n",
    "1) Apply for all six document files \n",
    "2) top 3 most common words \n",
    "3) Remove_SingleCharacter: 1: true(default)\n",
    "4) lowercase: 1: true (default)\n",
    "'''"
   ]
  },
  {
   "cell_type": "code",
   "execution_count": null,
   "metadata": {},
   "outputs": [],
   "source": [
    "#input parameters\n",
    "text = [text1]+[text2]+[text3]+[text4]+[text5]+[text6]\n",
    "fileNames =['doc1,doc2,doc3,doc4,doc5,doc6'] \n",
    "FIRST_WORDS =3\n",
    "Remove_SingleCharacter =1 \n",
    "lowercase =1"
   ]
  },
  {
   "cell_type": "code",
   "execution_count": null,
   "metadata": {},
   "outputs": [],
   "source": [
    "df =most_common_words(text,10)"
   ]
  },
  {
   "cell_type": "code",
   "execution_count": null,
   "metadata": {},
   "outputs": [],
   "source": [
    "pd.set_option('display.max_colwidth', -1)"
   ]
  },
  {
   "cell_type": "code",
   "execution_count": null,
   "metadata": {},
   "outputs": [],
   "source": [
    "%%HTML\n",
    "<style type=\"text/css\">\n",
    "    table.dataframe td, table.dataframe th {\n",
    "        border-style: solid;\n",
    "    }\n",
    "</style>"
   ]
  },
  {
   "cell_type": "code",
   "execution_count": null,
   "metadata": {},
   "outputs": [],
   "source": [
    "style = '<style>.dataframe td { text-align: left; }</style>'\n",
    "HTML( style + df.to_html())"
   ]
  },
  {
   "cell_type": "code",
   "execution_count": null,
   "metadata": {},
   "outputs": [],
   "source": [
    "'''\n",
    "Example-2 for most_common_words_function call:\n",
    "1) Apply for 4 document files \n",
    "2) top 5 most common words \n",
    "3) Remove_SingleCharacter: 1: true(default)\n",
    "4) lowercase: 1: true (default)\n",
    "'''"
   ]
  },
  {
   "cell_type": "code",
   "execution_count": null,
   "metadata": {},
   "outputs": [],
   "source": [
    "text = [text2]+[text4]+[text5]+[text6]\n",
    "fileNames =['doc2,doc4,doc5,doc6']\n",
    "FIRST_WORDS =5\n",
    "Remove_SingleCharacter =1 \n",
    "lowercase =1"
   ]
  },
  {
   "cell_type": "code",
   "execution_count": null,
   "metadata": {},
   "outputs": [],
   "source": [
    "df =most_common_words_API(fileNames, text, FIRST_WORDS, Remove_SingleCharacter, lowercase)"
   ]
  },
  {
   "cell_type": "code",
   "execution_count": null,
   "metadata": {},
   "outputs": [],
   "source": [
    "style = '<style>.dataframe td { text-align: left; }</style>'\n",
    "HTML( style + df.to_html())"
   ]
  },
  {
   "cell_type": "code",
   "execution_count": null,
   "metadata": {},
   "outputs": [],
   "source": [
    "'''\n",
    "3rd example for most_common_words_function call:\n",
    "1) Apply for 2 document files \n",
    "2) top 2 most common words \n",
    "3) Remove_SingleCharacter: 1: true(default)\n",
    "4) lowercase: 1: true (default)\n",
    "'''"
   ]
  },
  {
   "cell_type": "code",
   "execution_count": null,
   "metadata": {},
   "outputs": [],
   "source": [
    "text = [text2]+[text4]+[text6]\n",
    "fileNames =['doc2,doc4,doc6']\n",
    "FIRST_WORDS =2\n",
    "Remove_SingleCharacter =1 \n",
    "lowercase =1"
   ]
  },
  {
   "cell_type": "code",
   "execution_count": null,
   "metadata": {},
   "outputs": [],
   "source": [
    "df =most_common_words_API(fileNames, text, FIRST_WORDS, Remove_SingleCharacter, lowercase)"
   ]
  },
  {
   "cell_type": "code",
   "execution_count": null,
   "metadata": {},
   "outputs": [],
   "source": [
    "style = '<style>.dataframe td { text-align: left; }</style>'\n",
    "HTML( style + df.to_html())"
   ]
  },
  {
   "cell_type": "code",
   "execution_count": null,
   "metadata": {},
   "outputs": [],
   "source": [
    "'''\n",
    "Example-4 for most_common_words_function call:\n",
    "1) Apply for 2 document files\n",
    "2) top 2 most common words \n",
    "3) Remove_SingleCharacter: 0: false\n",
    "4) lowercase:  0: false \n",
    "'''"
   ]
  },
  {
   "cell_type": "code",
   "execution_count": null,
   "metadata": {},
   "outputs": [],
   "source": [
    "text = [text1] + [text5]\n",
    "fileNames =['doc1, doc5']\n",
    "FIRST_WORDS = 2\n",
    "Remove_SingleCharacter =0 \n",
    "lowercase =0"
   ]
  },
  {
   "cell_type": "code",
   "execution_count": null,
   "metadata": {},
   "outputs": [],
   "source": [
    "df =most_common_words_API(fileNames, text, FIRST_WORDS, Remove_SingleCharacter, lowercase)"
   ]
  },
  {
   "cell_type": "code",
   "execution_count": null,
   "metadata": {},
   "outputs": [],
   "source": [
    "style = '<style>.dataframe td { text-align: left; }</style>'\n",
    "HTML( style + df.to_html())"
   ]
  },
  {
   "cell_type": "code",
   "execution_count": null,
   "metadata": {},
   "outputs": [],
   "source": [
    "'''\n",
    "Example-5 for most_common_words_function call:\n",
    "1) Apply for 1 document file ONLY \n",
    "2) top 2 most common words \n",
    "3) Remove_SingleCharacter: 1: true, 0:false\n",
    "4) lowercase: 1: true, 0: false \n",
    "'''"
   ]
  },
  {
   "cell_type": "code",
   "execution_count": null,
   "metadata": {},
   "outputs": [],
   "source": [
    "text = [text1]\n",
    "fileNames =['doc1']\n",
    "FIRST_WORDS = 2\n",
    "Remove_SingleCharacter =1 \n",
    "lowercase =1"
   ]
  },
  {
   "cell_type": "code",
   "execution_count": null,
   "metadata": {},
   "outputs": [],
   "source": [
    "df =most_common_words_API(fileNames, text, FIRST_WORDS, Remove_SingleCharacter, lowercase)"
   ]
  }
 ],
 "metadata": {
  "kernelspec": {
   "display_name": "Python 3",
   "language": "python",
   "name": "python3"
  },
  "language_info": {
   "codemirror_mode": {
    "name": "ipython",
    "version": 3
   },
   "file_extension": ".py",
   "mimetype": "text/x-python",
   "name": "python",
   "nbconvert_exporter": "python",
   "pygments_lexer": "ipython3",
   "version": "3.5.3"
  }
 },
 "nbformat": 4,
 "nbformat_minor": 2
}
