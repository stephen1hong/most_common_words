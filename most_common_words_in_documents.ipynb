{
 "cells": [
  {
   "cell_type": "code",
   "execution_count": 1,
   "metadata": {},
   "outputs": [],
   "source": [
    "def most_common_words_API(fileNames, text, FIRST_WORDS, Remove_SingleCharacter, lowercase):\n",
    "    # fileName: input document names\n",
    "    # tex: input document list \n",
    "    # FIRST_WORDS: number of the most top commoon words\n",
    "    # Remove_SingleCharacter: 1: true, 0: false\n",
    "    # lowercase: 1: true, 0: false\n",
    "    \n",
    "    #at least two ducuments \n",
    "    if len(text)< 2:\n",
    "        raise ValueError(\"Input/format wrong: has at least two document files!\")\n",
    "        \n",
    "    wordsi=[text[i].split() for i in range(len(text))]\n",
    "    \n",
    "    if Remove_SingleCharacter:\n",
    "        t_wordsi=[]\n",
    "        for i in range(len(wordsi)):\n",
    "            temp=[]\n",
    "            for word in wordsi[i]:\n",
    "                if len(word) >1:\n",
    "                    temp.append(word)        \n",
    "            t_wordsi.append(temp)\n",
    "        wordsi = t_wordsi\n",
    "        \n",
    "    if lowercase:\n",
    "        l_wordsi=[]\n",
    "        for i in range(len(wordsi)):\n",
    "            temp=[]\n",
    "            for word in wordsi[i]:\n",
    "                temp.append(word.lower())\n",
    "            l_wordsi.append(temp)\n",
    "        wordsi =l_wordsi\n",
    "        \n",
    "    fwordsi={}\n",
    "    for i in range(len(text)):\n",
    "        fwordsi[i] = [word for word in wordsi[i] if word not in stopwords.words('english')]\n",
    "        \n",
    "    freq_words={}\n",
    "    for i in range(len(text)):\n",
    "        freq_words[i] = nltk.FreqDist(fwordsi[i])\n",
    "    \n",
    "    commonSet =freq_words[0]\n",
    "    for i in range(1, len(freq_words)):\n",
    "        commonSet = commonSet&freq_words[i]\n",
    "        \n",
    "    mostCommon=commonSet.most_common(FIRST_WORDS)\n",
    "    word = [mostCommon[i][0] for i in range(FIRST_WORDS)]\n",
    "    \n",
    "    Dic={}\n",
    "    for j in range(len(text)):\n",
    "        dic0=[]\n",
    "        for i in range(FIRST_WORDS):\n",
    "            slist=[]\n",
    "            for sentence in text[j].split('.'):\n",
    "                if  mostCommon[i][0] in sentence.split():\n",
    "                    slist.append(sentence + '.')\n",
    "            dic0.append(slist)\n",
    "        Dic[j]=dic0\n",
    "    \n",
    "    sentence=[]\n",
    "    for i in range(FIRST_WORDS):\n",
    "        sent_temp=[]\n",
    "        for j in range(len(text)):\n",
    "            sent_temp.append(Dic[j][i])\n",
    "        sent_temp = [item for sublist in sent_temp for item in sublist]\n",
    "        sentence.append(sent_temp)\n",
    "\n",
    "    doc=fileNames\n",
    "    for i in range(FIRST_WORDS-1):\n",
    "        doc =doc + fileNames\n",
    "    \n",
    "    data = {'Word(#)': word,'Documents': doc,'Sentences containing the word':sentence}\n",
    "    \n",
    "    df = pd.DataFrame(data, columns=['Word(#)','Documents','Sentences containing the word'])\n",
    "    \n",
    "    return df"
   ]
  },
  {
   "cell_type": "code",
   "execution_count": null,
   "metadata": {},
   "outputs": [],
   "source": [
    "from collections import Counter\n",
    "import numpy as np\n",
    "def most_common_words_API1(fileNames, text, FIRST_WORDS, Remove_SingleCharacter, lowercase):\n",
    "    "
   ]
  },
  {
   "cell_type": "code",
   "execution_count": 2,
   "metadata": {},
   "outputs": [],
   "source": [
    "import nltk\n",
    "from nltk.corpus import stopwords\n",
    "import pandas as pd\n",
    "from IPython.core.display import HTML"
   ]
  },
  {
   "cell_type": "code",
   "execution_count": 3,
   "metadata": {},
   "outputs": [],
   "source": [
    "with open('doc1.txt', 'r', encoding='utf8') as f1:\n",
    "    text1 = f1.read()\n",
    "with open('doc2.txt', 'r', encoding='utf8') as f2:\n",
    "    text2 = f2.read()\n",
    "with open('doc3.txt', 'r', encoding='utf8') as f3:\n",
    "    text3 = f3.read()\n",
    "with open('doc4.txt', 'r', encoding='utf8') as f4:\n",
    "    text4 = f4.read()\n",
    "with open('doc5.txt', 'r', encoding='utf8') as f5:\n",
    "    text5 = f5.read()\n",
    "with open('doc6.txt', 'r', encoding='utf8') as f6:\n",
    "    text6 = f6.read()"
   ]
  },
  {
   "cell_type": "code",
   "execution_count": 4,
   "metadata": {},
   "outputs": [
    {
     "data": {
      "text/plain": [
       "'\\nExample-1 for most_common_words_function call\\n1) Apply for all six document files \\n2) top 3 most common words \\n3) Remove_SingleCharacter: 1: true(default)\\n4) lowercase: 1: true (default)\\n'"
      ]
     },
     "execution_count": 4,
     "metadata": {},
     "output_type": "execute_result"
    }
   ],
   "source": [
    "'''\n",
    "Example-1 for most_common_words_function call\n",
    "1) Apply for all six document files \n",
    "2) top 3 most common words \n",
    "3) Remove_SingleCharacter: 1: true(default)\n",
    "4) lowercase: 1: true (default)\n",
    "'''"
   ]
  },
  {
   "cell_type": "code",
   "execution_count": 5,
   "metadata": {},
   "outputs": [],
   "source": [
    "#input parameters\n",
    "text = [text1]+[text2]+[text3]+[text4]+[text5]+[text6]\n",
    "fileNames =['doc1,doc2,doc3,doc4,doc5,doc6'] \n",
    "FIRST_WORDS =3\n",
    "Remove_SingleCharacter =1 \n",
    "lowercase =1"
   ]
  },
  {
   "cell_type": "code",
   "execution_count": 6,
   "metadata": {},
   "outputs": [],
   "source": [
    "df =most_common_words_API(fileNames, text, FIRST_WORDS, Remove_SingleCharacter, lowercase)"
   ]
  },
  {
   "cell_type": "code",
   "execution_count": 7,
   "metadata": {},
   "outputs": [],
   "source": [
    "pd.set_option('display.max_colwidth', -1)"
   ]
  },
  {
   "cell_type": "code",
   "execution_count": 8,
   "metadata": {},
   "outputs": [
    {
     "data": {
      "text/html": [
       "<style type=\"text/css\">\n",
       "    table.dataframe td, table.dataframe th {\n",
       "        border-style: solid;\n",
       "    }\n",
       "</style>"
      ],
      "text/plain": [
       "<IPython.core.display.HTML object>"
      ]
     },
     "metadata": {},
     "output_type": "display_data"
    }
   ],
   "source": [
    "%%HTML\n",
    "<style type=\"text/css\">\n",
    "    table.dataframe td, table.dataframe th {\n",
    "        border-style: solid;\n",
    "    }\n",
    "</style>"
   ]
  },
  {
   "cell_type": "code",
   "execution_count": 9,
   "metadata": {},
   "outputs": [
    {
     "data": {
      "text/html": [
       "<style>.dataframe td { text-align: left; }</style><table border=\"1\" class=\"dataframe\">\n",
       "  <thead>\n",
       "    <tr style=\"text-align: right;\">\n",
       "      <th></th>\n",
       "      <th>Word(#)</th>\n",
       "      <th>Documents</th>\n",
       "      <th>Sentences containing the word</th>\n",
       "    </tr>\n",
       "  </thead>\n",
       "  <tbody>\n",
       "    <tr>\n",
       "      <th>0</th>\n",
       "      <td>one</td>\n",
       "      <td>doc1,doc2,doc3,doc4,doc5,doc6</td>\n",
       "      <td>[ In the face of a politics that's shut you out, that's told you to settle, that's divided us for too long, you believe we can be one people, reaching for what's possible, building that more perfect union.,  I was a young man then, just a year out of college; I knew no one in Chicago, was without money or family connections.,  It is because men and women of every race, from every walk of life, continued to march for freedom long after Lincoln was laid to rest, that today we have the chance to face the challenges of this millennium together, as one people - as Americans., \\nFinally, there is one other thing that is not too late to get right about this war - and that is the homecoming of the men and women - our veterans - who have sacrificed the most., \\nThat beneath all the differences of race and region, faith and station, we are one people., \\nLet me express my thanks to the historic slate of candidates who accompanied me on this journey, and especially the one who traveled the farthest - a champion for working Americans and an inspiration to my daughters and to yours -- Hillary Rodham Clinton.,  I am grateful to finish this journey with one of the finest statesmen of our time, a man at ease with everyone from world leaders to the conductors on the Amtrak train he still takes home every night., \\nIt is that promise that has always set this country apart - that through hard work and sacrifice, each of us can pursue our individual dreams but still come together as one American family, to ensure that the next generation can pursue their dreams as well., \\nWe meet at one of those defining moments - a moment when our nation is at war, our economy is in turmoil, and the American promise has been threatened once more., \\nThis country is more decent than one where a woman in Ohio, on the brink of retirement, finds herself one illness away from disaster after a lifetime of hard work., \\nThis country is more generous than one where a man in Indiana has to pack up the equipment he's worked on for twenty years and watch it shipped off to China, and then chokes up as he explains how he felt like a failure when he went home to tell his family the news.,  And when one of his chief advisors - the man who wrote his economic plan - was talking about the anxiety Americans are feeling, he said that we were just suffering from a \"mental recession,\" and that we've become, and I quote, \"a nation of whiners.,  Why else would he define middle-class as someone making under five million dollars a year? How else could he propose hundreds of billions in tax breaks for big corporations and oil companies but not one penny of tax relief to more than one hundred million Americans? How else could he offer a health care plan that would actually tax people's benefits, or an education plan that would do nothing to help families pay for college, or a plan that would privatize Social Security and gamble your retirement?\\nIt's not because John McCain doesn't care.,  She's the one who taught me about hard work.,  She's the one who put off buying a new car or a new dress for herself so that I could have a better life., \\nThat's the promise of America - the idea that we are responsible for ourselves, but that we also rise or fall as one nation; the fundamental belief that I am my brother's keeper; I am my sister's keeper.,  Because one of the things that we have to change in our politics is the idea that people cannot disagree without challenging each other's character and patriotism., \\nFor eighteen long months, you have stood up, one by one, and said enough to the politics of the past., \\nAmerica, this is one of those moments.,  That together, our dreams can be one., \\nAnd I think that we face one of those moments today., \\nThat if you give a speech where you rattle off statistics about the stock market being up and orders for durable goods being on the rise, no one will notice the single mom whose two jobs won't pay the bills or the student who can't afford his college dreams., \\nThat if you say the words \"plan for victory\" and point to the number of schools painted and roads paved and cell phones used in Iraq, no one will notice the nearly 2,500 flag-draped coffins that have arrived at Dover Air Force base.,  We just didn't know he was talking about this one., \\nBut there's just one problem.,  The party that won't make Americans choose between a health care plan that bankrupts the government and one that bankrupts families., \\nAt one point, Kozol tells about his trip to Fremont High School in Los Angeles, where he met a girl who tells him that she'd taken hairdressing twice, because there were actually two different levels offered by the high school., \\nAnd I've wondered - if she is lucky enough to live as long as 105-year-old Marguerite Lewis, if she someday has the chance to look back across the twenty-first century, what will she see? Will she see a country that is freer and kinder, more tolerant and more just than the one she grew up in? Will she see greater opportunities for every citizen of this country? Will all her childhood hopes be fulfilled?\\nWe are here tonight because we believe that in this country, we have it within our power to say \"yes\" to those questions - to forge our own destiny - to begin the world anew.,  In fact, one recent survey showed that corruption in Kenya costs local firms 6% of their revenues, the difference between good-paying jobs in Kenya or somewhere else., \\nIt can shield a war criminal - even one like Felicien Kabuga, suspected of helping to finance and orchestrate the Rwandan genocide - by allowing him to purchase safe haven for a time and robbing all humanity of the opportunity to bring the criminal to justice.,  And this is why the struggle against corruption is one of the great struggles of our time.,  The Kenyan people are crying out for real change, and whether one voted orange or banana in last year's referendum, the message that many Kenyans seemed to be sending was one of dissatisfaction with the pace of reform, and real frustration with continued tolerance of corruption at high levels.,  Wealth declarations do little good if no one can access them, and accountability in government spending is not possible if no one knows how much was available and allocated to a given project in the first place., \\nOf course, in the end, one of the strongest weapons your country has against corruption is the ability of you, the people, to stand up and speak out about the injustices you see., \\nThese are serious times for our country, and with their votes two weeks ago, Americans demanded a feasible strategy with defined goals in Iraq ? a strategy no longer driven by ideology and politics, but one that is based on a realistic assessment of the sobering facts on the ground and our interests in the region.,  Rather, the question is what strategies, imperfect though they may be, are most likely to achieve the best outcome in Iraq, one that will ultimately put us on a more effective course to deal with international terrorism, nuclear proliferation, and other critical threats to our security., \\nI have long said that the only solution in Iraq is a political one., \\nLet me emphasize one vital point ? any U., \\nThere is one other place where our mistakes in Iraq have cost us dearly ? and that is the loss of our government’s credibility with the American people.,  I spoke here a year ago and delivered a message about Iraq that was similar to the one I did today., \\nNow, few people understand these challenges better than the co-founder of the Cooperative Threat Reduction Program, Dick Lugar, and this is something that became particularly clear to me during one incident on the trip., \\nBut this is one story that shows our job is far from finished at a time when demand for these weapons has never been greater.,  As one book says, \"disease by the ton was its industry.,  By destroying these inventories, this is one place we could be making more of a difference., \\nThis does not mean that we should ease up one bit on issues affecting our national security.]</td>\n",
       "    </tr>\n",
       "    <tr>\n",
       "      <th>1</th>\n",
       "      <td>time</td>\n",
       "      <td>doc1,doc2,doc3,doc4,doc5,doc6</td>\n",
       "      <td>[ I know I haven't spent a lot of time learning the ways of Washington.,  Today we are called once more - and it is time for our generation to answer that call.,  The time for that politics is over.,  It's time to turn the page.,  America, it's time to start bringing our troops home.,  It's time to admit that no amount of American lives can resolve the political disagreement that lies at the heart of someone else's civil war., \\nAnd if you will join me in this improbable quest, if you feel destiny calling, and see as I see, a future of endless possibility stretching before us; if you sense, as I sense, that the time is now to shake off our slumber, and slough off our fear, and make good on the debt we owe past and future generations, then I'm ready to take up the cause, and march with you, and work with you., \\nBut the record's clear: John McCain has voted with George Bush ninety percent of the time., \\nWell it's time for them to own their failure.,  It's time for us to change America., \\nNow is the time to end this addiction, and to understand that drilling is a stop-gap measure, not a long-term solution., \\nAmerica, now is not the time for small plans., \\nNow is the time to finally meet our moral obligation to provide every child a world-class education, because it will take nothing less to compete in the global economy., \\nNow is the time to finally keep the promise of affordable, accessible health care for every single American., \\nNow is the time to help families with paid sick days and better family leave, because nobody in America should have to choose between keeping their jobs and caring for a sick child or ailing parent., \\nNow is the time to change our bankruptcy laws, so that your pensions are protected ahead of CEO bonuses; and the time to protect Social Security for future generations., \\nAnd now is the time to keep the promise of equal pay for an equal day's work, because I want my daughters to have exactly the same opportunities as your sons., \\nAnd today, as my call for a time frame to remove our troops from Iraq has been echoed by the Iraqi government and even the Bush Administration, even after we learned that Iraq has a $79 billion surplus while we're wallowing in deficits, John McCain stands alone in his stubborn refusal to end a misguided war.,  Change happens because the American people demand it - because they rise up and insist on new ideas and new leadership, a new politics for a new time.,  In the young people who voted for the first time, and in those who got involved again after a very long time., \\nMy friends, we meet here today at a time where we find ourselves at a crossroads in America's history., \\nIt's a time where you can go to any town hall or street corner or coffee shop and hear people express the same anxiety about the future; hear them convey the same uncertainty about the direction we're headed as a country.,  That she was born at a time for black folks when lynchings were not uncommon, but voting was., \\nAnd she saw people lining up to vote for the first time - and she got in that line - and she never forgot it., \\nWell it's time we finally said we notice, and we care, and we're not gonna settle anymore., \\nThe time for our party's identity crisis is over., \\nLadies and gentlemen, this is our time., \\nOur time to make a mark on history., \\nOur time to write a new chapter in the American story., \\nOur time to leave our children a country that is freer and kinder, more prosperous and more just than the place we grew up., \\nAnd then someday, someday, if our kids get the chance to stand where we are and look back at the beginning of the 21st century, they can say that this was the time when America renewed its purpose., \\nThey can say that this was the time when America found its way., \\nThey can say that this was the time when America learned to dream again., The first time I came to Kenya was in 1987., \\nIt can shield a war criminal - even one like Felicien Kabuga, suspected of helping to finance and orchestrate the Rwandan genocide - by allowing him to purchase safe haven for a time and robbing all humanity of the opportunity to bring the criminal to justice.,  And this is why the struggle against corruption is one of the great struggles of our time.,  They fight the fight of our time.,  Since that time I have known him through stories - those my mother would tell and those I heard from my relatives here in Kenya on my last trip to this country.,  force might remain in Iraq for a more extended period of time., \\nBut to guard against isolationist sentiments in this country, we must change conditions in Iraq and the policy that has characterized our time there ? a policy based on blind hope and ideology instead of fact and reality.,  It’s time that we listen to their concerns and win back their trust., \\nThe time for waiting in Iraq is over.,  It is time to change our policy.,  It is time to give Iraqis their country back.,  And it is time to refocus America’s efforts on the wider struggle yet to be won., \\nBut this is one story that shows our job is far from finished at a time when demand for these weapons has never been greater., \\nToday, experts tell us that we're in a race against time to prevent this scenario from unfolding.,  But we've all seen how it could take far less time for these weapons to leak out and travel around the world, fueling insurgencies and violent conflicts from Africa to Afghanistan., \\nTime and time again on the trip, I saw their skill and experience when negotiating with the Russians.]</td>\n",
       "    </tr>\n",
       "    <tr>\n",
       "      <th>2</th>\n",
       "      <td>like</td>\n",
       "      <td>doc1,doc2,doc3,doc4,doc5,doc6</td>\n",
       "      <td>[ We welcomed immigrants to our shores, we opened railroads to the west, we landed a man on the moon, and we heard a King's call to let justice roll down like water, and righteousness like a mighty stream.,  We can harness homegrown, alternative fuels like ethanol and spur the production of more fuel-efficient cars., \\nThis country is more generous than one where a man in Indiana has to pack up the equipment he's worked on for twenty years and watch it shipped off to China, and then chokes up as he explains how he felt like a failure when he went home to tell his family the news.,  And we are here because we love this country too much to let the next four years look like the last eight.,  We measure progress in the 23 million new jobs that were created when Bill Clinton was President - when the average American family saw its income go up $7,500 instead of down $2,000 like it has under George Bush.,  Because in an economy like this, the last thing we should do is raise taxes on the middle-class.,  You have shown what history teaches us - that at defining moments like this one, the change we need doesn't come from Washington., \\nAnd the second thing people would ask me was, \"You seem like a nice young man., \\nYou teach law school, you're a civil rights attorney, you organize voter registration, you're a family man - why would you wanna go into something dirty and nasty like politics?\"\\nAnd I understood the question because it revealed the cynicism people feel about public life today.,  And in the midst of this rally, someone comes up to me and says that there's a woman who'd like to come meet you, and she's traveled a long way and she wants to take a picture and shake your hand., \\nAnd she knew that during those moments in history where it looked like we might give up hope or settle for less, there have always been Americans who refused.,  The history of Africa is a history of ancient kingdoms and great traditions; the story of people fighting to be free from colonial rule; the heroism of not only of great men like Nkrumah and Kenyatta and Mandela, but also ordinary people who endured great hardship, from Ghana to South Africa, to secure self-determination in the face of great odds., \\nKenya, like many African nations did not come of age under the best historical circumstances., \\nIt can shield a war criminal - even one like Felicien Kabuga, suspected of helping to finance and orchestrate the Rwandan genocide - by allowing him to purchase safe haven for a time and robbing all humanity of the opportunity to bring the criminal to justice., \\nTerrorist attacks - like those that have shed Kenyan blood and struck at the heart of the Kenyan economy - are facilitated by customs and border officers who can be paid off, by police forces so crippled by corruption that they do not protect the personal safety of Kenyans walking the streets of Nairobi, and by forged documents that are easy to find in a climate where graft and fraud thrive.,  By focusing on building strong, independent institutions - like an anti-corruption commission with real authority - rather than cults of personality, they make a contribution to their country that will last longer than their own lives., \\nI know that honoring their memory and making that freedom real may seem like an impossible task - an effort bigger than you can imagine - but sometimes all it takes to move us there is doing what little you can to right the wrongs you see.,  A year in which well-respected Republicans like John Warner, former Administration officials like Colin Powell, generals who have served in Iraq, and intelligence experts have all said that what we are doing is not working.,  troops remaining in Iraq should be dedicated to the critical, but less visible roles, of protecting logistics supply points, critical infrastructure, and American enclaves like the Green Zone, as well as acting as a rapid reaction force to respond to emergencies and go after terrorists.,  Such a reduced but active presence will also send a clear message to hostile countries like Iran and Syria that we intend to remain a key player in this region., \\nOur guide then brought us right up to what looked like a mini-refrigerator.,  Some weapons experts believe that terrorists are likely to find enough fissile material to build a bomb in the next ten years - and we can imagine with horror what the world will be like if they succeed.,  Outstanding career officials who run the Nunn-Lugar program -- people like Col.]</td>\n",
       "    </tr>\n",
       "  </tbody>\n",
       "</table>"
      ],
      "text/plain": [
       "<IPython.core.display.HTML object>"
      ]
     },
     "execution_count": 9,
     "metadata": {},
     "output_type": "execute_result"
    }
   ],
   "source": [
    "style = '<style>.dataframe td { text-align: left; }</style>'\n",
    "HTML( style + df.to_html())"
   ]
  },
  {
   "cell_type": "code",
   "execution_count": 10,
   "metadata": {},
   "outputs": [
    {
     "data": {
      "text/plain": [
       "'\\nExample-2 for most_common_words_function call:\\n1) Apply for 4 document files \\n2) top 5 most common words \\n3) Remove_SingleCharacter: 1: true(default)\\n4) lowercase: 1: true (default)\\n'"
      ]
     },
     "execution_count": 10,
     "metadata": {},
     "output_type": "execute_result"
    }
   ],
   "source": [
    "'''\n",
    "Example-2 for most_common_words_function call:\n",
    "1) Apply for 4 document files \n",
    "2) top 5 most common words \n",
    "3) Remove_SingleCharacter: 1: true(default)\n",
    "4) lowercase: 1: true (default)\n",
    "'''"
   ]
  },
  {
   "cell_type": "code",
   "execution_count": 11,
   "metadata": {},
   "outputs": [],
   "source": [
    "text = [text2]+[text4]+[text5]+[text6]\n",
    "fileNames =['doc2,doc4,doc5,doc6']\n",
    "FIRST_WORDS =5\n",
    "Remove_SingleCharacter =1 \n",
    "lowercase =1"
   ]
  },
  {
   "cell_type": "code",
   "execution_count": 12,
   "metadata": {},
   "outputs": [],
   "source": [
    "df =most_common_words_API(fileNames, text, FIRST_WORDS, Remove_SingleCharacter, lowercase)"
   ]
  },
  {
   "cell_type": "code",
   "execution_count": 13,
   "metadata": {},
   "outputs": [
    {
     "data": {
      "text/html": [
       "<style>.dataframe td { text-align: left; }</style><table border=\"1\" class=\"dataframe\">\n",
       "  <thead>\n",
       "    <tr style=\"text-align: right;\">\n",
       "      <th></th>\n",
       "      <th>Word(#)</th>\n",
       "      <th>Documents</th>\n",
       "      <th>Sentences containing the word</th>\n",
       "    </tr>\n",
       "  </thead>\n",
       "  <tbody>\n",
       "    <tr>\n",
       "      <th>0</th>\n",
       "      <td>also</td>\n",
       "      <td>doc2,doc4,doc5,doc6</td>\n",
       "      <td>[ And next week, we'll also hear about those occasions when he's broken with his party as evidence that he can deliver the change that we need., \\nWhat is that promise?\\nIt's a promise that says each of us has the freedom to make of our own lives what we will, but that we also have the obligation to treat each other with dignity and respect., \\nThat's the promise of America - the idea that we are responsible for ourselves, but that we also rise or fall as one nation; the fundamental belief that I am my brother's keeper; I am my sister's keeper.,  But I will also go through the federal budget, line by line, eliminating programs that no longer work and making the ones we do need work better and cost less - because we cannot meet twenty-first century challenges with a twentieth century bureaucracy., \\nAnd Democrats, we must also admit that fulfilling America's promise will require more than just money.,  But we must also admit that programs alone can't replace parents; that government can't turn off the television and make a child do her homework; that fathers must take more responsibility for providing the love and guidance their children need.,  But I will also renew the tough, direct diplomacy that can prevent Iran from obtaining nuclear weapons and curb Russian aggression.,  What has also been lost is our sense of common purpose - our sense of higher purpose.,  The history of Africa is a history of ancient kingdoms and great traditions; the story of people fighting to be free from colonial rule; the heroism of not only of great men like Nkrumah and Kenyatta and Mandela, but also ordinary people who endured great hardship, from Ghana to South Africa, to secure self-determination in the face of great odds., \\nKenya was also forced to rapidly move from a highly agrarian to a more urban, industrialized nation.,  Other issues, such as resource extraction and the drain of human capital have also been major factors.,  And corruption also erodes the state from the inside out, sickening the justice system until there is no justice to be found, poisoning the police forces until their presence becomes a source of insecurity rather than comfort., \\nWhat's worse - corruption can also provide opportunities for those who would harness the fear and hatred of others to their agenda and ambitions., \\nSome of the worst actors on the international stage can also take advantage of the collective exhaustion and outrage that people feel with official corruption, as we've seen with Islamic extremists who promise purification, but deliver totalitarianism.,  And we also know that the more people there are on the government payroll, the more likely it is that someone will be encouraged to take a bribe.,  Senators, Republican and Democrat, including myself, had also voted in favor of a resolution demanding that 2006 be a year of significant transition in Iraq.,  But even as they have carried out their responsibilities with excellence and valor, they have also told me that there is no military solution to this war.,  Such a reduced but active presence will also send a clear message to hostile countries like Iran and Syria that we intend to remain a key player in this region., \\nOf course, in order to convince the various factions to embark on the admittedly difficult task of disarming their militias, the Iraqi government must also make headway on reforming the institutions that support the military and the police.,  But we need to also move towards more condition-based aid packages where economic assistance is contingent upon the ability of Iraqis to make measurable progress on reducing sectarian violence and forging a lasting political settlement.,  We should also make it clear that, even after we begin to drawdown forces, we will still work with our allies in the region to combat international terrorism and prevent the spread of weapons of mass destruction.,  As we change strategy in Iraq, we should also think about what Iraq has taught us about America’s strategy in the wider struggle against rogue threats and international terrorism.,  But I have long believed it has also been a failure of conception ? that the rationale behind the war itself was misguided., \\nThe second lesson is that in any conflict, it is not enough to simply plan for war; you must also plan for success., \"\\nBesides the devastation they can cause to a civilian population, biological agents can also be effective in asymmetrical warfare against U., \\nAdditional steps should also be taken to consolidate and secure dangerous pathogen collections, strengthen bio-reconnaissance networks to provide early warning of bio-attack and natural disease outbreaks, and have our experts work together to develop improved medical countermeasures.,  For any of these efforts that I've mentioned to work as we move forward, we must also think critically and strategically about Washington's relationship with Moscow.,  I also saw their ability to ensure that shortcomings were addressed and programs were implemented correctly., \\nWe also need to ensure that the Cooperative Threat Reduction umbrella agreement, due to expire in 2006, is renewed in a timely manner.,  \"Let us not be blind to our differences--but let us also direct attention to our common interests and to the means by which those differences can be resolved.]</td>\n",
       "    </tr>\n",
       "    <tr>\n",
       "      <th>1</th>\n",
       "      <td>one</td>\n",
       "      <td>doc2,doc4,doc5,doc6</td>\n",
       "      <td>[\\nLet me express my thanks to the historic slate of candidates who accompanied me on this journey, and especially the one who traveled the farthest - a champion for working Americans and an inspiration to my daughters and to yours -- Hillary Rodham Clinton.,  I am grateful to finish this journey with one of the finest statesmen of our time, a man at ease with everyone from world leaders to the conductors on the Amtrak train he still takes home every night., \\nIt is that promise that has always set this country apart - that through hard work and sacrifice, each of us can pursue our individual dreams but still come together as one American family, to ensure that the next generation can pursue their dreams as well., \\nWe meet at one of those defining moments - a moment when our nation is at war, our economy is in turmoil, and the American promise has been threatened once more., \\nThis country is more decent than one where a woman in Ohio, on the brink of retirement, finds herself one illness away from disaster after a lifetime of hard work., \\nThis country is more generous than one where a man in Indiana has to pack up the equipment he's worked on for twenty years and watch it shipped off to China, and then chokes up as he explains how he felt like a failure when he went home to tell his family the news.,  And when one of his chief advisors - the man who wrote his economic plan - was talking about the anxiety Americans are feeling, he said that we were just suffering from a \"mental recession,\" and that we've become, and I quote, \"a nation of whiners.,  Why else would he define middle-class as someone making under five million dollars a year? How else could he propose hundreds of billions in tax breaks for big corporations and oil companies but not one penny of tax relief to more than one hundred million Americans? How else could he offer a health care plan that would actually tax people's benefits, or an education plan that would do nothing to help families pay for college, or a plan that would privatize Social Security and gamble your retirement?\\nIt's not because John McCain doesn't care.,  She's the one who taught me about hard work.,  She's the one who put off buying a new car or a new dress for herself so that I could have a better life., \\nThat's the promise of America - the idea that we are responsible for ourselves, but that we also rise or fall as one nation; the fundamental belief that I am my brother's keeper; I am my sister's keeper.,  Because one of the things that we have to change in our politics is the idea that people cannot disagree without challenging each other's character and patriotism., \\nFor eighteen long months, you have stood up, one by one, and said enough to the politics of the past., \\nAmerica, this is one of those moments.,  That together, our dreams can be one.,  In fact, one recent survey showed that corruption in Kenya costs local firms 6% of their revenues, the difference between good-paying jobs in Kenya or somewhere else., \\nIt can shield a war criminal - even one like Felicien Kabuga, suspected of helping to finance and orchestrate the Rwandan genocide - by allowing him to purchase safe haven for a time and robbing all humanity of the opportunity to bring the criminal to justice.,  And this is why the struggle against corruption is one of the great struggles of our time.,  The Kenyan people are crying out for real change, and whether one voted orange or banana in last year's referendum, the message that many Kenyans seemed to be sending was one of dissatisfaction with the pace of reform, and real frustration with continued tolerance of corruption at high levels.,  Wealth declarations do little good if no one can access them, and accountability in government spending is not possible if no one knows how much was available and allocated to a given project in the first place., \\nOf course, in the end, one of the strongest weapons your country has against corruption is the ability of you, the people, to stand up and speak out about the injustices you see., \\nThese are serious times for our country, and with their votes two weeks ago, Americans demanded a feasible strategy with defined goals in Iraq ? a strategy no longer driven by ideology and politics, but one that is based on a realistic assessment of the sobering facts on the ground and our interests in the region.,  Rather, the question is what strategies, imperfect though they may be, are most likely to achieve the best outcome in Iraq, one that will ultimately put us on a more effective course to deal with international terrorism, nuclear proliferation, and other critical threats to our security., \\nI have long said that the only solution in Iraq is a political one., \\nLet me emphasize one vital point ? any U., \\nThere is one other place where our mistakes in Iraq have cost us dearly ? and that is the loss of our government’s credibility with the American people.,  I spoke here a year ago and delivered a message about Iraq that was similar to the one I did today., \\nNow, few people understand these challenges better than the co-founder of the Cooperative Threat Reduction Program, Dick Lugar, and this is something that became particularly clear to me during one incident on the trip., \\nBut this is one story that shows our job is far from finished at a time when demand for these weapons has never been greater.,  As one book says, \"disease by the ton was its industry.,  By destroying these inventories, this is one place we could be making more of a difference., \\nThis does not mean that we should ease up one bit on issues affecting our national security.]</td>\n",
       "    </tr>\n",
       "    <tr>\n",
       "      <th>2</th>\n",
       "      <td>could</td>\n",
       "      <td>doc2,doc4,doc5,doc6</td>\n",
       "      <td>[\\nFour years ago, I stood before you and told you my story - of the brief union between a young man from Kenya and a young woman from Kansas who weren't well-off or well-known, but shared a belief that in America, their son could achieve whatever he put his mind to.,  Why else would he define middle-class as someone making under five million dollars a year? How else could he propose hundreds of billions in tax breaks for big corporations and oil companies but not one penny of tax relief to more than one hundred million Americans? How else could he offer a health care plan that would actually tax people's benefits, or an education plan that would do nothing to help families pay for college, or a plan that would privatize Social Security and gamble your retirement?\\nIt's not because John McCain doesn't care.,  She's the one who put off buying a new car or a new dress for herself so that I could have a better life.,  When John McCain said we could just \"muddle through\" in Afghanistan, I argued for more resources and more troops to finish the fight against the terrorists who actually attacked us on 9/11, and made clear that we must take out Osama bin Laden and his lieutenants if we have them in our sights.,  In many ways, he embodied the new Africa of the early Sixties, a man who had obtained the knowledge of the Western world, and sought to bring it back home, where he hoped he could help create a new nation., \\nIt is painfully obvious that corruption stifles development - it siphons off scarce resources that could improve infrastructure, bolster education systems, and strengthen public health.,  I don't have all the solutions or think that they'll be easy, but there are a few places that a country truly committed to reform could start.,  So if the government found ways to downsize the bureaucracy - to cut out the positions that aren't necessary or useful - it could use the extra money to increase the salary of other government officials.,  They have spent hundreds of billions of their hard-earned dollars on this effort ? money that could have been devoted to strengthening our homeland security and our competitive standing as a nation., \\nWhen I first advocated steps along these lines over a year ago, I had hoped that this phased redeployment could begin by the end of 2006.,  The redeployment could be temporarily suspended if the parties in Iraq reach an effective political arrangement that stabilizes the situation and they offer us a clear and compelling rationale for maintaining certain troop levels.,  Moreover, it could be suspended if at any point U.,  This force could help prevent the conflict in Iraq from becoming a wider war, consolidate gains in Northern Iraq, reassure allies in the Gulf, allow our troops to strike directly at al Qaeda wherever it may exist, and demonstrate to international terrorist organizations that they have not driven us from the region., \\nPerhaps most importantly, some of these troops could be redeployed to Afghanistan, where our lack of focus and commitment of resources has led to an increasing deterioration of the security situation there.,  But neither Iran nor Syria want to see a security vacuum in Iraq filled with chaos, terrorism, refugees, and violence, as it could have a destabilizing effect throughout the entire region ? and within their own countries.,  And on a trip to the former Soviet Union, I have seen the biological and nuclear weapons terrorists could easily steal while the world looks the other way.,  Not to mention the environmental and public health and safety catastrophe that could come from a failure to store and transport these materials safely and securely.,  But we've all seen how it could take far less time for these weapons to leak out and travel around the world, fueling insurgencies and violent conflicts from Africa to Afghanistan.,  By destroying these inventories, this is one place we could be making more of a difference., \\nOne way we could strengthen this relationship is by thinking about the Russians as more of a partner and less of a subordinate in the Cooperative Threat Reduction effort.]</td>\n",
       "    </tr>\n",
       "    <tr>\n",
       "      <th>3</th>\n",
       "      <td>time</td>\n",
       "      <td>doc2,doc4,doc5,doc6</td>\n",
       "      <td>[\\nBut the record's clear: John McCain has voted with George Bush ninety percent of the time., \\nWell it's time for them to own their failure.,  It's time for us to change America., \\nNow is the time to end this addiction, and to understand that drilling is a stop-gap measure, not a long-term solution., \\nAmerica, now is not the time for small plans., \\nNow is the time to finally meet our moral obligation to provide every child a world-class education, because it will take nothing less to compete in the global economy., \\nNow is the time to finally keep the promise of affordable, accessible health care for every single American., \\nNow is the time to help families with paid sick days and better family leave, because nobody in America should have to choose between keeping their jobs and caring for a sick child or ailing parent., \\nNow is the time to change our bankruptcy laws, so that your pensions are protected ahead of CEO bonuses; and the time to protect Social Security for future generations., \\nAnd now is the time to keep the promise of equal pay for an equal day's work, because I want my daughters to have exactly the same opportunities as your sons., \\nAnd today, as my call for a time frame to remove our troops from Iraq has been echoed by the Iraqi government and even the Bush Administration, even after we learned that Iraq has a $79 billion surplus while we're wallowing in deficits, John McCain stands alone in his stubborn refusal to end a misguided war.,  Change happens because the American people demand it - because they rise up and insist on new ideas and new leadership, a new politics for a new time.,  In the young people who voted for the first time, and in those who got involved again after a very long time., The first time I came to Kenya was in 1987., \\nIt can shield a war criminal - even one like Felicien Kabuga, suspected of helping to finance and orchestrate the Rwandan genocide - by allowing him to purchase safe haven for a time and robbing all humanity of the opportunity to bring the criminal to justice.,  And this is why the struggle against corruption is one of the great struggles of our time.,  They fight the fight of our time.,  Since that time I have known him through stories - those my mother would tell and those I heard from my relatives here in Kenya on my last trip to this country.,  force might remain in Iraq for a more extended period of time., \\nBut to guard against isolationist sentiments in this country, we must change conditions in Iraq and the policy that has characterized our time there ? a policy based on blind hope and ideology instead of fact and reality.,  It’s time that we listen to their concerns and win back their trust., \\nThe time for waiting in Iraq is over.,  It is time to change our policy.,  It is time to give Iraqis their country back.,  And it is time to refocus America’s efforts on the wider struggle yet to be won., \\nBut this is one story that shows our job is far from finished at a time when demand for these weapons has never been greater., \\nToday, experts tell us that we're in a race against time to prevent this scenario from unfolding.,  But we've all seen how it could take far less time for these weapons to leak out and travel around the world, fueling insurgencies and violent conflicts from Africa to Afghanistan., \\nTime and time again on the trip, I saw their skill and experience when negotiating with the Russians.]</td>\n",
       "    </tr>\n",
       "    <tr>\n",
       "      <th>4</th>\n",
       "      <td>progress</td>\n",
       "      <td>doc2,doc4,doc5,doc6</td>\n",
       "      <td>[\\nYou see, we Democrats have a very different measure of what constitutes progress in this country., \\nWe measure progress by how many people can find a job that pays the mortgage; whether you can put a little extra money away at the end of each month so you can someday watch your child receive her college diploma.,  We measure progress in the 23 million new jobs that were created when Bill Clinton was President - when the average American family saw its income go up $7,500 instead of down $2,000 like it has under George Bush.,  His ideas about how Kenya should progress often put him at odds with the politics of tribe and patronage, and because he spoke his mind, sometimes to a fault, he ended up being fired from his job and prevented from finding work in the country for many, many years., \\nBut for all the progress that has been made, we must surely acknowledge that neither Kenya nor the African continent have yet fulfilled their potential - that the hopefulness of the post-colonial era has been replaced by cynicism and sometimes despair, and that true freedom has not yet been won for those struggling to live on less than a few shillings a day, for those who have fallen prey to HIV/AIDS or malaria, to those ordinary citizens who continue to find themselves trapped in the crossfire of war or ethnic conflict., \\nThe good news is that there are already signs of progress here.,  We have been told that progress is just around the corner, and that when the Iraqis stand up, we will be able to stand down.,  It is not enough for him to simply lay out benchmarks for progress with no consequences attached for failing to meet them., \\nThe third part of our strategy should be to link continued economic aid in Iraq with the existence of tangible progress toward a political settlement.,  But we need to also move towards more condition-based aid packages where economic assistance is contingent upon the ability of Iraqis to make measurable progress on reducing sectarian violence and forging a lasting political settlement.,  As some of you know, Senator Lugar and I recently traveled to Russia, Ukraine, and Azerbaijan to witness firsthand both the progress we're making in securing the world's most dangerous weapons, as well as the serious challenges that lie ahead., \"\\nOf course, Dick has been there and he has done that, and thanks to the Cooperative Threat Reduction Programs he co-founded with Senator Sam Nunn, we've made amazing progress in finding, securing, and guarding some of the deadliest weapons that were left scattered throughout the former Soviet Union after the Cold War., \\nThe Department of Energy and others have certainly made progress in converting civilian reactors to low-enriched uranium, taking back spent fuel, and closing unnecessary facilities., \\nFortunately, however, we've made some good progress on this front.,  While the government of Ukraine is making progress here, the limited funding they have means that at the current pace, it will take sixty years to dismantle these weapons., \\nIt's important for senior officials to go and visit these sites, to check their progress and shortcomings; to see what's working and what's not.]</td>\n",
       "    </tr>\n",
       "  </tbody>\n",
       "</table>"
      ],
      "text/plain": [
       "<IPython.core.display.HTML object>"
      ]
     },
     "execution_count": 13,
     "metadata": {},
     "output_type": "execute_result"
    }
   ],
   "source": [
    "style = '<style>.dataframe td { text-align: left; }</style>'\n",
    "HTML( style + df.to_html())"
   ]
  },
  {
   "cell_type": "code",
   "execution_count": 14,
   "metadata": {},
   "outputs": [
    {
     "data": {
      "text/plain": [
       "'\\n3rd example for most_common_words_function call:\\n1) Apply for 2 document files \\n2) top 2 most common words \\n3) Remove_SingleCharacter: 1: true(default)\\n4) lowercase: 1: true (default)\\n'"
      ]
     },
     "execution_count": 14,
     "metadata": {},
     "output_type": "execute_result"
    }
   ],
   "source": [
    "'''\n",
    "3rd example for most_common_words_function call:\n",
    "1) Apply for 2 document files \n",
    "2) top 2 most common words \n",
    "3) Remove_SingleCharacter: 1: true(default)\n",
    "4) lowercase: 1: true (default)\n",
    "'''"
   ]
  },
  {
   "cell_type": "code",
   "execution_count": 15,
   "metadata": {},
   "outputs": [],
   "source": [
    "text = [text2]+[text4]+[text6]\n",
    "fileNames =['doc2,doc4,doc6']\n",
    "FIRST_WORDS =2\n",
    "Remove_SingleCharacter =1 \n",
    "lowercase =1"
   ]
  },
  {
   "cell_type": "code",
   "execution_count": 16,
   "metadata": {},
   "outputs": [],
   "source": [
    "df =most_common_words_API(fileNames, text, FIRST_WORDS, Remove_SingleCharacter, lowercase)"
   ]
  },
  {
   "cell_type": "code",
   "execution_count": 17,
   "metadata": {},
   "outputs": [
    {
     "data": {
      "text/html": [
       "<style>.dataframe td { text-align: left; }</style><table border=\"1\" class=\"dataframe\">\n",
       "  <thead>\n",
       "    <tr style=\"text-align: right;\">\n",
       "      <th></th>\n",
       "      <th>Word(#)</th>\n",
       "      <th>Documents</th>\n",
       "      <th>Sentences containing the word</th>\n",
       "    </tr>\n",
       "  </thead>\n",
       "  <tbody>\n",
       "    <tr>\n",
       "      <th>0</th>\n",
       "      <td>one</td>\n",
       "      <td>doc2,doc4,doc6</td>\n",
       "      <td>[\\nLet me express my thanks to the historic slate of candidates who accompanied me on this journey, and especially the one who traveled the farthest - a champion for working Americans and an inspiration to my daughters and to yours -- Hillary Rodham Clinton.,  I am grateful to finish this journey with one of the finest statesmen of our time, a man at ease with everyone from world leaders to the conductors on the Amtrak train he still takes home every night., \\nIt is that promise that has always set this country apart - that through hard work and sacrifice, each of us can pursue our individual dreams but still come together as one American family, to ensure that the next generation can pursue their dreams as well., \\nWe meet at one of those defining moments - a moment when our nation is at war, our economy is in turmoil, and the American promise has been threatened once more., \\nThis country is more decent than one where a woman in Ohio, on the brink of retirement, finds herself one illness away from disaster after a lifetime of hard work., \\nThis country is more generous than one where a man in Indiana has to pack up the equipment he's worked on for twenty years and watch it shipped off to China, and then chokes up as he explains how he felt like a failure when he went home to tell his family the news.,  And when one of his chief advisors - the man who wrote his economic plan - was talking about the anxiety Americans are feeling, he said that we were just suffering from a \"mental recession,\" and that we've become, and I quote, \"a nation of whiners.,  Why else would he define middle-class as someone making under five million dollars a year? How else could he propose hundreds of billions in tax breaks for big corporations and oil companies but not one penny of tax relief to more than one hundred million Americans? How else could he offer a health care plan that would actually tax people's benefits, or an education plan that would do nothing to help families pay for college, or a plan that would privatize Social Security and gamble your retirement?\\nIt's not because John McCain doesn't care.,  She's the one who taught me about hard work.,  She's the one who put off buying a new car or a new dress for herself so that I could have a better life., \\nThat's the promise of America - the idea that we are responsible for ourselves, but that we also rise or fall as one nation; the fundamental belief that I am my brother's keeper; I am my sister's keeper.,  Because one of the things that we have to change in our politics is the idea that people cannot disagree without challenging each other's character and patriotism., \\nFor eighteen long months, you have stood up, one by one, and said enough to the politics of the past., \\nAmerica, this is one of those moments.,  That together, our dreams can be one.,  In fact, one recent survey showed that corruption in Kenya costs local firms 6% of their revenues, the difference between good-paying jobs in Kenya or somewhere else., \\nIt can shield a war criminal - even one like Felicien Kabuga, suspected of helping to finance and orchestrate the Rwandan genocide - by allowing him to purchase safe haven for a time and robbing all humanity of the opportunity to bring the criminal to justice.,  And this is why the struggle against corruption is one of the great struggles of our time.,  The Kenyan people are crying out for real change, and whether one voted orange or banana in last year's referendum, the message that many Kenyans seemed to be sending was one of dissatisfaction with the pace of reform, and real frustration with continued tolerance of corruption at high levels.,  Wealth declarations do little good if no one can access them, and accountability in government spending is not possible if no one knows how much was available and allocated to a given project in the first place., \\nOf course, in the end, one of the strongest weapons your country has against corruption is the ability of you, the people, to stand up and speak out about the injustices you see., \\nNow, few people understand these challenges better than the co-founder of the Cooperative Threat Reduction Program, Dick Lugar, and this is something that became particularly clear to me during one incident on the trip., \\nBut this is one story that shows our job is far from finished at a time when demand for these weapons has never been greater.,  As one book says, \"disease by the ton was its industry.,  By destroying these inventories, this is one place we could be making more of a difference., \\nThis does not mean that we should ease up one bit on issues affecting our national security.]</td>\n",
       "    </tr>\n",
       "    <tr>\n",
       "      <th>1</th>\n",
       "      <td>also</td>\n",
       "      <td>doc2,doc4,doc6</td>\n",
       "      <td>[ And next week, we'll also hear about those occasions when he's broken with his party as evidence that he can deliver the change that we need., \\nWhat is that promise?\\nIt's a promise that says each of us has the freedom to make of our own lives what we will, but that we also have the obligation to treat each other with dignity and respect., \\nThat's the promise of America - the idea that we are responsible for ourselves, but that we also rise or fall as one nation; the fundamental belief that I am my brother's keeper; I am my sister's keeper.,  But I will also go through the federal budget, line by line, eliminating programs that no longer work and making the ones we do need work better and cost less - because we cannot meet twenty-first century challenges with a twentieth century bureaucracy., \\nAnd Democrats, we must also admit that fulfilling America's promise will require more than just money.,  But we must also admit that programs alone can't replace parents; that government can't turn off the television and make a child do her homework; that fathers must take more responsibility for providing the love and guidance their children need.,  But I will also renew the tough, direct diplomacy that can prevent Iran from obtaining nuclear weapons and curb Russian aggression.,  What has also been lost is our sense of common purpose - our sense of higher purpose.,  The history of Africa is a history of ancient kingdoms and great traditions; the story of people fighting to be free from colonial rule; the heroism of not only of great men like Nkrumah and Kenyatta and Mandela, but also ordinary people who endured great hardship, from Ghana to South Africa, to secure self-determination in the face of great odds., \\nKenya was also forced to rapidly move from a highly agrarian to a more urban, industrialized nation.,  Other issues, such as resource extraction and the drain of human capital have also been major factors.,  And corruption also erodes the state from the inside out, sickening the justice system until there is no justice to be found, poisoning the police forces until their presence becomes a source of insecurity rather than comfort., \\nWhat's worse - corruption can also provide opportunities for those who would harness the fear and hatred of others to their agenda and ambitions., \\nSome of the worst actors on the international stage can also take advantage of the collective exhaustion and outrage that people feel with official corruption, as we've seen with Islamic extremists who promise purification, but deliver totalitarianism.,  And we also know that the more people there are on the government payroll, the more likely it is that someone will be encouraged to take a bribe., \"\\nBesides the devastation they can cause to a civilian population, biological agents can also be effective in asymmetrical warfare against U., \\nAdditional steps should also be taken to consolidate and secure dangerous pathogen collections, strengthen bio-reconnaissance networks to provide early warning of bio-attack and natural disease outbreaks, and have our experts work together to develop improved medical countermeasures.,  For any of these efforts that I've mentioned to work as we move forward, we must also think critically and strategically about Washington's relationship with Moscow.,  I also saw their ability to ensure that shortcomings were addressed and programs were implemented correctly., \\nWe also need to ensure that the Cooperative Threat Reduction umbrella agreement, due to expire in 2006, is renewed in a timely manner.,  \"Let us not be blind to our differences--but let us also direct attention to our common interests and to the means by which those differences can be resolved.]</td>\n",
       "    </tr>\n",
       "  </tbody>\n",
       "</table>"
      ],
      "text/plain": [
       "<IPython.core.display.HTML object>"
      ]
     },
     "execution_count": 17,
     "metadata": {},
     "output_type": "execute_result"
    }
   ],
   "source": [
    "style = '<style>.dataframe td { text-align: left; }</style>'\n",
    "HTML( style + df.to_html())"
   ]
  },
  {
   "cell_type": "code",
   "execution_count": 18,
   "metadata": {},
   "outputs": [
    {
     "data": {
      "text/plain": [
       "'\\nExample-4 for most_common_words_function call:\\n1) Apply for 2 document files\\n2) top 2 most common words \\n3) Remove_SingleCharacter: 0: false\\n4) lowercase:  0: false \\n'"
      ]
     },
     "execution_count": 18,
     "metadata": {},
     "output_type": "execute_result"
    }
   ],
   "source": [
    "'''\n",
    "Example-4 for most_common_words_function call:\n",
    "1) Apply for 2 document files\n",
    "2) top 2 most common words \n",
    "3) Remove_SingleCharacter: 0: false\n",
    "4) lowercase:  0: false \n",
    "'''"
   ]
  },
  {
   "cell_type": "code",
   "execution_count": 19,
   "metadata": {},
   "outputs": [],
   "source": [
    "text = [text1] + [text5]\n",
    "fileNames =['doc1, doc5']\n",
    "FIRST_WORDS = 2\n",
    "Remove_SingleCharacter =0 \n",
    "lowercase =0"
   ]
  },
  {
   "cell_type": "code",
   "execution_count": 20,
   "metadata": {},
   "outputs": [],
   "source": [
    "df =most_common_words_API(fileNames, text, FIRST_WORDS, Remove_SingleCharacter, lowercase)"
   ]
  },
  {
   "cell_type": "code",
   "execution_count": 21,
   "metadata": {},
   "outputs": [
    {
     "data": {
      "text/html": [
       "<style>.dataframe td { text-align: left; }</style><table border=\"1\" class=\"dataframe\">\n",
       "  <thead>\n",
       "    <tr style=\"text-align: right;\">\n",
       "      <th></th>\n",
       "      <th>Word(#)</th>\n",
       "      <th>Documents</th>\n",
       "      <th>Sentences containing the word</th>\n",
       "    </tr>\n",
       "  </thead>\n",
       "  <tbody>\n",
       "    <tr>\n",
       "      <th>0</th>\n",
       "      <td>I</td>\n",
       "      <td>doc1, doc5</td>\n",
       "      <td>[ It's humbling, but in my heart I know you didn't come here just for me, you came here because you believe in what this country can be.,  But let me tell you how I came to be here.,  As most of you know, I am not a native of this great state.,  I moved to Illinois over two decades ago.,  I was a young man then, just a year out of college; I knew no one in Chicago, was without money or family connections.,  And I accepted the job, sight unseen, motivated then by a single, simple, powerful idea - that I might play a small part in building a better America.,  I joined with pastors and lay-people to deal with communities that had been ravaged by plant closings.,  I saw that the problems people faced weren't simply local in nature - that the decision to close a steel mill was made by distant executives; that the lack of textbooks and computers in schools could be traced to the skewed priorities of politicians a thousand miles away; and that when a child turns to violence, there's a hole in his heart no government could ever fill., \\nIt was in these neighborhoods that I received the best education I ever had, and where I learned the true meaning of my Christian faith., \\nAfter three years of this work, I went to law school, because I wanted to understand how the law should work for those in need.,  I became a civil rights lawyer, and taught constitutional law, and after a time, I came to understand that our cherished rights of liberty and equality depend on the active participation of an awakened electorate.,  It was with these ideas in mind that I arrived in this capital city as a state Senator., \\nIt was here, in Springfield, where I saw all that is America converge - farmers and teachers, businessmen and laborers, all of them with a story to tell, all of them seeking a seat at the table, all of them clamoring to be heard.,  I made lasting friendships here - friends that I see in the audience today., \\nIt was here, in Springfield, where North, South, East and West come together that I was reminded of the essential decency of the American people - where I came to believe that through this decency, we can build a more hopeful America., \\nAnd that is why, in the shadow of the Old State Capitol, where Lincoln once called on a divided house to stand together, where common hopes and common dreams still, I stand before you today to announce my candidacy for President of the United States., \\nI recognize there is a certain presumptuousness - a certain audacity - to this announcement.,  I know I haven't spent a lot of time learning the ways of Washington.,  I was proud to help lead the fight in Congress that led to the most sweeping ethics reform since Watergate.,  Most of you know I opposed this war from the start.,  I thought it was a tragic mistake.,  That's why I have a plan that will bring our combat troops home by March of 2008., \\nI know there are those who don't believe we can do all these things.,  I understand the skepticism.,  After all, every four years, candidates from both parties make similar promises, and I expect this year will be no different., \\nI want to win that next battle - for justice and opportunity., \\nI want to win that next battle - for better schools, and better jobs, and health care for all., \\nI want us to take up the unfinished business of perfecting our union, and building a better America., \\nAnd if you will join me in this improbable quest, if you feel destiny calling, and see as I see, a future of endless possibility stretching before us; if you sense, as I sense, that the time is now to shake off our slumber, and slough off our fear, and make good on the debt we owe past and future generations, then I'm ready to take up the cause, and march with you, and work with you.,  I said then and believe now that Saddam Hussein was a ruthless dictator who craved weapons of mass destruction but posed no imminent threat to the United States; that a war in Iraq would harm, not help, our efforts to defeat al Qaeda and finish the job in Afghanistan; and that an invasion would require an occupation of undetermined length, at undetermined cost, with undetermined consequences., \\nWhen I came here and gave a speech on this war a year ago, I suggested that we begin to move towards a phased redeployment of American troops from Iraqi soil., \\nNow, I am hopeful that the Iraq Study Group emerges next month with a series of proposals around which we can begin to build a bipartisan consensus.,  I am committed to working with this White House and any of my colleagues in the months to come to craft such a consensus.,  And I believe that it remains possible to salvage an acceptable outcome to this long and misguided war.,  The American soldiers I met when I traveled to Iraq this year were performing their duties with bravery, with brilliance, and without question., \\nI have long said that the only solution in Iraq is a political one., \\nWhen I first advocated steps along these lines over a year ago, I had hoped that this phased redeployment could begin by the end of 2006., \\nI am not suggesting that this timetable be overly-rigid., \\nAnd so I firmly believe that we should convene a regional conference with the Iraqis, Saudis, Iranians, Syrians, the Turks, Jordanians, the British and others.,  But I have long believed it has also been a failure of conception ? that the rationale behind the war itself was misguided.,  And so going forward, I believe there are strategic lessons to be learned from this as we continue to confront the new threats of this new century.,  In my travels to Africa, I have seen weak governments and broken societies that can be exploited by al Qaeda.,  And on a trip to the former Soviet Union, I have seen the biological and nuclear weapons terrorists could easily steal while the world looks the other way.,  I spoke here a year ago and delivered a message about Iraq that was similar to the one I did today.,  I refuse to accept the possibility that I will have to come back a year from now and say the same thing.]</td>\n",
       "    </tr>\n",
       "    <tr>\n",
       "      <th>1</th>\n",
       "      <td>us</td>\n",
       "      <td>doc1, doc5</td>\n",
       "      <td>[ In the face of a politics that's shut you out, that's told you to settle, that's divided us for too long, you believe we can be one people, reaching for what's possible, building that more perfect union., \\nAll of us know what those challenges are today - a war with no end, a dependence on oil that threatens our future, schools where too many children aren't learning, and families struggling paycheck to paycheck despite working as hard as they can., \\nWhat's stopped us from meeting these challenges is not the absence of sound policies and sensible plans.,  What's stopped us is the failure of leadership, the smallness of our politics - the ease with which we're distracted by the petty and trivial, our chronic avoidance of tough decisions, our preference for scoring cheap political points instead of rolling up our sleeves and building a working consensus to tackle big problems.,  And although government will play a crucial role in bringing about the changes we need, more money and programs alone will not get us where we need to go.,  So let us begin.,  Let us begin this hard work together.,  Let us transform this nation., \\nLet us be the generation that reshapes our economy to compete in the digital age.,  Politics doesn't have to divide us on this anymore - we can work together to keep our country safe.,  But let us also understand that ultimate victory against our enemies will come only by rebuilding our alliances and exporting those ideals that bring hope and opportunity to millions around the globe.,  Let us honor their valor by providing the care they need and rebuilding the military they love.,  Let us be the generation that begins this work.,  All of us running for president will travel around the country offering ten-point plans and making grand speeches; all of us will trumpet those qualities we believe make us uniquely qualified to lead the country.,  It must be about us - it must be about what we can do together.,  It will take your time, your energy, and your advice - to push us forward when we're doing right, and to let us know when we're not., \\nBut the life of a tall, gangly, self-made Springfield lawyer tells us that a different future is possible., \\nHe tells us that there is power in words., \\nHe tells us that there is power in conviction., \\nHe tells us that there is power in hope., \\nI want us to take up the unfinished business of perfecting our union, and building a better America.,  Together, starting today, let us finish the work that needs to be done, and usher in a new birth of freedom on this Earth., Throughout American history, there have been moments that call on us to meet the challenges of an uncertain world, and pay whatever price is required to secure our freedom., \\nAnd this has been true for those of us who looked on the rubble and ashes of 9/11, and made a solemn pledge that such an atrocity would never again happen on United States soil; that we would do whatever it took to hunt down those responsible, and use every tool at our disposal ? diplomatic, economic, and military ? to root out both the agents of terrorism and the conditions that helped breed it., \\nIn each case, what has been required to meet the challenges we face has been good judgment and clear vision from our leaders, and a fundamental seriousness and engagement on the part of the American people ? a willingness on the part of each of us to look past what is petty and small and sensational, and look ahead to what is necessary and purposeful.,  The conflict has left us distracted from containing the world’s growing threats ? in North Korea, in Iran, and in Afghanistan.,  Rather, the question is what strategies, imperfect though they may be, are most likely to achieve the best outcome in Iraq, one that will ultimately put us on a more effective course to deal with international terrorism, nuclear proliferation, and other critical threats to our security.,  And it is not enough for the President to tell us that victory in this war is simply a matter of American resolve.,  No, it has not been a failure of resolve that has led us to this chaos, but a failure of strategy ? and that strategy must change.,  The redeployment could be temporarily suspended if the parties in Iraq reach an effective political arrangement that stabilizes the situation and they offer us a clear and compelling rationale for maintaining certain troop levels., \\nDrawing down our troops in Iraq will allow us to redeploy additional troops to Northern Iraq and elsewhere in the region as an over-the-horizon force.,  This force could help prevent the conflict in Iraq from becoming a wider war, consolidate gains in Northern Iraq, reassure allies in the Gulf, allow our troops to strike directly at al Qaeda wherever it may exist, and demonstrate to international terrorist organizations that they have not driven us from the region.,  commanders think such a force would be effective; if there is substantial movement towards a political solution among Iraqi factions; if the Iraqi government showed a serious commitment to disbanding the militias; and if the Iraqi government asked us ? in a public and unambiguous way ? for such continued support.,  We know these countries want us to fail, and we should remain steadfast in our opposition to their support of terrorism and Iran’s nuclear ambitions.,  It is simply not productive for us not to engage in discussions with Iran and Syria on an issue of such fundamental importance to all of us.,  As we change strategy in Iraq, we should also think about what Iraq has taught us about America’s strategy in the wider struggle against rogue threats and international terrorism., \\nThe overwhelming presence of our troops, our intelligence, and our resources in Iraq has stretched our military to the breaking point and distracted us from the growing threats of a dangerous world., \\nThere is one other place where our mistakes in Iraq have cost us dearly ? and that is the loss of our government’s credibility with the American people.,  9/11 showed us that try as we might to ignore the rest of the world, our enemies will no longer ignore us.]</td>\n",
       "    </tr>\n",
       "  </tbody>\n",
       "</table>"
      ],
      "text/plain": [
       "<IPython.core.display.HTML object>"
      ]
     },
     "execution_count": 21,
     "metadata": {},
     "output_type": "execute_result"
    }
   ],
   "source": [
    "style = '<style>.dataframe td { text-align: left; }</style>'\n",
    "HTML( style + df.to_html())"
   ]
  },
  {
   "cell_type": "code",
   "execution_count": 22,
   "metadata": {},
   "outputs": [
    {
     "data": {
      "text/plain": [
       "'\\nExample-5 for most_common_words_function call:\\n1) Apply for 1 document file ONLY \\n2) top 2 most common words \\n3) Remove_SingleCharacter: 1: true, 0:false\\n4) lowercase: 1: true, 0: false \\n'"
      ]
     },
     "execution_count": 22,
     "metadata": {},
     "output_type": "execute_result"
    }
   ],
   "source": [
    "'''\n",
    "Example-5 for most_common_words_function call:\n",
    "1) Apply for 1 document file ONLY \n",
    "2) top 2 most common words \n",
    "3) Remove_SingleCharacter: 1: true, 0:false\n",
    "4) lowercase: 1: true, 0: false \n",
    "'''"
   ]
  },
  {
   "cell_type": "code",
   "execution_count": 23,
   "metadata": {},
   "outputs": [],
   "source": [
    "text = [text1]\n",
    "fileNames =['doc1']\n",
    "FIRST_WORDS = 2\n",
    "Remove_SingleCharacter =1 \n",
    "lowercase =1"
   ]
  },
  {
   "cell_type": "code",
   "execution_count": 24,
   "metadata": {},
   "outputs": [
    {
     "ename": "ValueError",
     "evalue": "Input/format wrong: has at least two document files!",
     "output_type": "error",
     "traceback": [
      "\u001b[1;31m---------------------------------------------------------------------------\u001b[0m",
      "\u001b[1;31mValueError\u001b[0m                                Traceback (most recent call last)",
      "\u001b[1;32m<ipython-input-24-3291740a0cd0>\u001b[0m in \u001b[0;36m<module>\u001b[1;34m()\u001b[0m\n\u001b[1;32m----> 1\u001b[1;33m \u001b[0mdf\u001b[0m \u001b[1;33m=\u001b[0m\u001b[0mmost_common_words_API\u001b[0m\u001b[1;33m(\u001b[0m\u001b[0mfileNames\u001b[0m\u001b[1;33m,\u001b[0m \u001b[0mtext\u001b[0m\u001b[1;33m,\u001b[0m \u001b[0mFIRST_WORDS\u001b[0m\u001b[1;33m,\u001b[0m \u001b[0mRemove_SingleCharacter\u001b[0m\u001b[1;33m,\u001b[0m \u001b[0mlowercase\u001b[0m\u001b[1;33m)\u001b[0m\u001b[1;33m\u001b[0m\u001b[0m\n\u001b[0m",
      "\u001b[1;32m<ipython-input-1-47a129e0337a>\u001b[0m in \u001b[0;36mmost_common_words_API\u001b[1;34m(fileNames, text, FIRST_WORDS, Remove_SingleCharacter, lowercase)\u001b[0m\n\u001b[0;32m      8\u001b[0m     \u001b[1;31m#at least two ducuments\u001b[0m\u001b[1;33m\u001b[0m\u001b[1;33m\u001b[0m\u001b[0m\n\u001b[0;32m      9\u001b[0m     \u001b[1;32mif\u001b[0m \u001b[0mlen\u001b[0m\u001b[1;33m(\u001b[0m\u001b[0mtext\u001b[0m\u001b[1;33m)\u001b[0m\u001b[1;33m<\u001b[0m \u001b[1;36m2\u001b[0m\u001b[1;33m:\u001b[0m\u001b[1;33m\u001b[0m\u001b[0m\n\u001b[1;32m---> 10\u001b[1;33m         \u001b[1;32mraise\u001b[0m \u001b[0mValueError\u001b[0m\u001b[1;33m(\u001b[0m\u001b[1;34m\"Input/format wrong: has at least two document files!\"\u001b[0m\u001b[1;33m)\u001b[0m\u001b[1;33m\u001b[0m\u001b[0m\n\u001b[0m\u001b[0;32m     11\u001b[0m \u001b[1;33m\u001b[0m\u001b[0m\n\u001b[0;32m     12\u001b[0m     \u001b[0mwordsi\u001b[0m\u001b[1;33m=\u001b[0m\u001b[1;33m[\u001b[0m\u001b[0mtext\u001b[0m\u001b[1;33m[\u001b[0m\u001b[0mi\u001b[0m\u001b[1;33m]\u001b[0m\u001b[1;33m.\u001b[0m\u001b[0msplit\u001b[0m\u001b[1;33m(\u001b[0m\u001b[1;33m)\u001b[0m \u001b[1;32mfor\u001b[0m \u001b[0mi\u001b[0m \u001b[1;32min\u001b[0m \u001b[0mrange\u001b[0m\u001b[1;33m(\u001b[0m\u001b[0mlen\u001b[0m\u001b[1;33m(\u001b[0m\u001b[0mtext\u001b[0m\u001b[1;33m)\u001b[0m\u001b[1;33m)\u001b[0m\u001b[1;33m]\u001b[0m\u001b[1;33m\u001b[0m\u001b[0m\n",
      "\u001b[1;31mValueError\u001b[0m: Input/format wrong: has at least two document files!"
     ]
    }
   ],
   "source": [
    "df =most_common_words_API(fileNames, text, FIRST_WORDS, Remove_SingleCharacter, lowercase)"
   ]
  }
 ],
 "metadata": {
  "kernelspec": {
   "display_name": "Python 3",
   "language": "python",
   "name": "python3"
  },
  "language_info": {
   "codemirror_mode": {
    "name": "ipython",
    "version": 3
   },
   "file_extension": ".py",
   "mimetype": "text/x-python",
   "name": "python",
   "nbconvert_exporter": "python",
   "pygments_lexer": "ipython3",
   "version": "3.5.3"
  }
 },
 "nbformat": 4,
 "nbformat_minor": 2
}
